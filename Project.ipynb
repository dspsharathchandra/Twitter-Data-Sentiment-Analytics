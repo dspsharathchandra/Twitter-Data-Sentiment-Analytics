{
 "cells": [
  {
   "cell_type": "code",
   "execution_count": 1,
   "id": "258c874b",
   "metadata": {},
   "outputs": [],
   "source": [
    "import pandas as pd\n",
    "df = pd.read_csv('tweets1.csv')\n",
    "df['Date'] = df['Date'] = pd.to_datetime(df['Date'], format='%Y-%m-%d')"
   ]
  },
  {
   "cell_type": "code",
   "execution_count": 2,
   "id": "76f551cf",
   "metadata": {},
   "outputs": [
    {
     "data": {
      "text/plain": [
       "197276"
      ]
     },
     "execution_count": 2,
     "metadata": {},
     "output_type": "execute_result"
    }
   ],
   "source": [
    "len(df)"
   ]
  },
  {
   "cell_type": "code",
   "execution_count": 5,
   "id": "b980cbef",
   "metadata": {},
   "outputs": [
    {
     "name": "stderr",
     "output_type": "stream",
     "text": [
      "2022-05-01 14:39:46.768023: W tensorflow/stream_executor/platform/default/dso_loader.cc:64] Could not load dynamic library 'libcudart.so.11.0'; dlerror: libcudart.so.11.0: cannot open shared object file: No such file or directory\n",
      "2022-05-01 14:39:46.768037: I tensorflow/stream_executor/cuda/cudart_stub.cc:29] Ignore above cudart dlerror if you do not have a GPU set up on your machine.\n"
     ]
    },
    {
     "name": "stdout",
     "output_type": "stream",
     "text": [
      "2022-05-01 14:39:48,874 loading file /home/aditya/.flair/models/sentiment-en-mix-distillbert_4.pt\n"
     ]
    }
   ],
   "source": [
    "import flair\n",
    "flair_sentiment = flair.models.TextClassifier.load('en-sentiment')"
   ]
  },
  {
   "cell_type": "code",
   "execution_count": 91,
   "id": "bd7b5eec",
   "metadata": {},
   "outputs": [
    {
     "data": {
      "application/vnd.jupyter.widget-view+json": {
       "model_id": "0e835607e945484585617a0da3084b40",
       "version_major": 2,
       "version_minor": 0
      },
      "text/plain": [
       "  0%|          | 0/197276 [00:00<?, ?it/s]"
      ]
     },
     "metadata": {},
     "output_type": "display_data"
    }
   ],
   "source": [
    "from tqdm.notebook import tqdm\n",
    "\n",
    "ss= list(tqdm((flair.data.Sentence(sent) for sent in df['Tweet']), total=len(df)))"
   ]
  },
  {
   "cell_type": "code",
   "execution_count": 7,
   "id": "d0b40aee",
   "metadata": {},
   "outputs": [
    {
     "name": "stderr",
     "output_type": "stream",
     "text": [
      "Batch inference: 100%|██████████| 6165/6165 [2:39:40<00:00,  1.55s/it]  \n"
     ]
    }
   ],
   "source": [
    "flair_sentiment.predict(ss, verbose=True, mini_batch_size=32)"
   ]
  },
  {
   "cell_type": "code",
   "execution_count": 9,
   "id": "0e3b0698",
   "metadata": {},
   "outputs": [],
   "source": [
    "results = [(x.labels[0].value, x.labels[0].score) for x in ss]"
   ]
  },
  {
   "cell_type": "code",
   "execution_count": 11,
   "id": "98332c47",
   "metadata": {},
   "outputs": [],
   "source": [
    "df['Sentiment'] = [x[0] for x in results]\n",
    "df['Sentiment Score'] = [x[1] for x in results]"
   ]
  },
  {
   "cell_type": "code",
   "execution_count": 7,
   "id": "f53d9942",
   "metadata": {},
   "outputs": [],
   "source": [
    "df.to_pickle('tweets_sentiment.pkl')"
   ]
  }
 ],
 "metadata": {
  "kernelspec": {
   "display_name": "Python 3 (ipykernel)",
   "language": "python",
   "name": "python3"
  },
  "language_info": {
   "codemirror_mode": {
    "name": "ipython",
    "version": 3
   },
   "file_extension": ".py",
   "mimetype": "text/x-python",
   "name": "python",
   "nbconvert_exporter": "python",
   "pygments_lexer": "ipython3",
   "version": "3.9.6"
  }
 },
 "nbformat": 4,
 "nbformat_minor": 5
}
