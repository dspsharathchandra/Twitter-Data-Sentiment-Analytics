{
 "cells": [
  {
   "cell_type": "code",
   "execution_count": 1,
   "id": "258c874b",
   "metadata": {},
   "outputs": [],
   "source": [
    "import pandas as pd\n",
    "df = pd.read_csv('tweets1.csv')\n",
    "df['Date'] = df['Date'] = pd.to_datetime(df['Date'], format='%Y-%m-%d')"
   ]
  },
  {
   "cell_type": "code",
   "execution_count": 2,
   "id": "76f551cf",
   "metadata": {},
   "outputs": [
    {
     "data": {
      "text/plain": [
       "197276"
      ]
     },
     "execution_count": 2,
     "metadata": {},
     "output_type": "execute_result"
    }
   ],
   "source": [
    "len(df)"
   ]
  },
  {
   "cell_type": "code",
   "execution_count": 3,
   "id": "4592d3e0",
   "metadata": {},
   "outputs": [],
   "source": [
    "filtered_df = df.loc[(df['Date'] >= '2022-03-14')\n",
    "                     & (df['Date'] < '2022-03-15')]"
   ]
  },
  {
   "cell_type": "code",
   "execution_count": 4,
   "id": "76323a42",
   "metadata": {},
   "outputs": [
    {
     "data": {
      "text/html": [
       "<div>\n",
       "<style scoped>\n",
       "    .dataframe tbody tr th:only-of-type {\n",
       "        vertical-align: middle;\n",
       "    }\n",
       "\n",
       "    .dataframe tbody tr th {\n",
       "        vertical-align: top;\n",
       "    }\n",
       "\n",
       "    .dataframe thead th {\n",
       "        text-align: right;\n",
       "    }\n",
       "</style>\n",
       "<table border=\"1\" class=\"dataframe\">\n",
       "  <thead>\n",
       "    <tr style=\"text-align: right;\">\n",
       "      <th></th>\n",
       "      <th>Unnamed: 0</th>\n",
       "      <th>Date</th>\n",
       "      <th>Location</th>\n",
       "      <th>User</th>\n",
       "      <th>Tweet</th>\n",
       "    </tr>\n",
       "  </thead>\n",
       "  <tbody>\n",
       "    <tr>\n",
       "      <th>69416</th>\n",
       "      <td>69416</td>\n",
       "      <td>2022-03-14</td>\n",
       "      <td>Washington, DC</td>\n",
       "      <td>ChadBown</td>\n",
       "      <td>How ending the ethanol mandates will boost the...</td>\n",
       "    </tr>\n",
       "    <tr>\n",
       "      <th>69417</th>\n",
       "      <td>69417</td>\n",
       "      <td>2022-03-14</td>\n",
       "      <td>Seattle (for now)</td>\n",
       "      <td>DevonHeinen</td>\n",
       "      <td>#BREAKING\\nUS State Dept issues stmt saying US...</td>\n",
       "    </tr>\n",
       "    <tr>\n",
       "      <th>69418</th>\n",
       "      <td>69418</td>\n",
       "      <td>2022-03-14</td>\n",
       "      <td>Dublin, Ireland</td>\n",
       "      <td>olivercallan</td>\n",
       "      <td>Incredible, fearless bravery. Protester storms...</td>\n",
       "    </tr>\n",
       "    <tr>\n",
       "      <th>69419</th>\n",
       "      <td>69419</td>\n",
       "      <td>2022-03-14</td>\n",
       "      <td>NaN</td>\n",
       "      <td>DougJBalloon</td>\n",
       "      <td>Putin invaded Ukraine. So why does it feel lik...</td>\n",
       "    </tr>\n",
       "    <tr>\n",
       "      <th>69420</th>\n",
       "      <td>69420</td>\n",
       "      <td>2022-03-14</td>\n",
       "      <td>NaN</td>\n",
       "      <td>1813Doncarlo</td>\n",
       "      <td>Mother Jones journalist David Corn on The Reid...</td>\n",
       "    </tr>\n",
       "    <tr>\n",
       "      <th>...</th>\n",
       "      <td>...</td>\n",
       "      <td>...</td>\n",
       "      <td>...</td>\n",
       "      <td>...</td>\n",
       "      <td>...</td>\n",
       "    </tr>\n",
       "    <tr>\n",
       "      <th>72145</th>\n",
       "      <td>72145</td>\n",
       "      <td>2022-03-14</td>\n",
       "      <td>Moscow</td>\n",
       "      <td>akarlin0</td>\n",
       "      <td>Biggest casualty of the Ukraine War to date. h...</td>\n",
       "    </tr>\n",
       "    <tr>\n",
       "      <th>72146</th>\n",
       "      <td>72146</td>\n",
       "      <td>2022-03-14</td>\n",
       "      <td>Michigan, USA</td>\n",
       "      <td>AGHamilton29</td>\n",
       "      <td>Kadyrov is taking time away from kidnapping an...</td>\n",
       "    </tr>\n",
       "    <tr>\n",
       "      <th>72147</th>\n",
       "      <td>72147</td>\n",
       "      <td>2022-03-14</td>\n",
       "      <td>ÜT: 52.6906485,-2.7483742</td>\n",
       "      <td>LouWhit15</td>\n",
       "      <td>Money Saving Expert says: don't let the Tories...</td>\n",
       "    </tr>\n",
       "    <tr>\n",
       "      <th>72148</th>\n",
       "      <td>72148</td>\n",
       "      <td>2022-03-14</td>\n",
       "      <td>New York City</td>\n",
       "      <td>brianstelter</td>\n",
       "      <td>Via the NYT: \"They didn't just take away our f...</td>\n",
       "    </tr>\n",
       "    <tr>\n",
       "      <th>72149</th>\n",
       "      <td>72149</td>\n",
       "      <td>2022-03-14</td>\n",
       "      <td>New York, NY</td>\n",
       "      <td>IrwinRedlenerMD</td>\n",
       "      <td>#UkraineRussiaWar Impossible to understand Put...</td>\n",
       "    </tr>\n",
       "  </tbody>\n",
       "</table>\n",
       "<p>2734 rows × 5 columns</p>\n",
       "</div>"
      ],
      "text/plain": [
       "       Unnamed: 0       Date                   Location             User  \\\n",
       "69416       69416 2022-03-14             Washington, DC         ChadBown   \n",
       "69417       69417 2022-03-14          Seattle (for now)      DevonHeinen   \n",
       "69418       69418 2022-03-14            Dublin, Ireland     olivercallan   \n",
       "69419       69419 2022-03-14                        NaN     DougJBalloon   \n",
       "69420       69420 2022-03-14                        NaN     1813Doncarlo   \n",
       "...           ...        ...                        ...              ...   \n",
       "72145       72145 2022-03-14                     Moscow         akarlin0   \n",
       "72146       72146 2022-03-14              Michigan, USA     AGHamilton29   \n",
       "72147       72147 2022-03-14  ÜT: 52.6906485,-2.7483742        LouWhit15   \n",
       "72148       72148 2022-03-14              New York City     brianstelter   \n",
       "72149       72149 2022-03-14               New York, NY  IrwinRedlenerMD   \n",
       "\n",
       "                                                   Tweet  \n",
       "69416  How ending the ethanol mandates will boost the...  \n",
       "69417  #BREAKING\\nUS State Dept issues stmt saying US...  \n",
       "69418  Incredible, fearless bravery. Protester storms...  \n",
       "69419  Putin invaded Ukraine. So why does it feel lik...  \n",
       "69420  Mother Jones journalist David Corn on The Reid...  \n",
       "...                                                  ...  \n",
       "72145  Biggest casualty of the Ukraine War to date. h...  \n",
       "72146  Kadyrov is taking time away from kidnapping an...  \n",
       "72147  Money Saving Expert says: don't let the Tories...  \n",
       "72148  Via the NYT: \"They didn't just take away our f...  \n",
       "72149  #UkraineRussiaWar Impossible to understand Put...  \n",
       "\n",
       "[2734 rows x 5 columns]"
      ]
     },
     "execution_count": 4,
     "metadata": {},
     "output_type": "execute_result"
    }
   ],
   "source": [
    "filtered_df"
   ]
  },
  {
   "cell_type": "code",
   "execution_count": 5,
   "id": "b980cbef",
   "metadata": {},
   "outputs": [
    {
     "name": "stderr",
     "output_type": "stream",
     "text": [
      "2022-05-01 11:02:44.411505: W tensorflow/stream_executor/platform/default/dso_loader.cc:64] Could not load dynamic library 'libcudart.so.11.0'; dlerror: libcudart.so.11.0: cannot open shared object file: No such file or directory\n",
      "2022-05-01 11:02:44.411521: I tensorflow/stream_executor/cuda/cudart_stub.cc:29] Ignore above cudart dlerror if you do not have a GPU set up on your machine.\n"
     ]
    },
    {
     "name": "stdout",
     "output_type": "stream",
     "text": [
      "2022-05-01 11:02:46,407 loading file /home/aditya/.flair/models/sentiment-en-mix-distillbert_4.pt\n"
     ]
    }
   ],
   "source": [
    "import flair\n",
    "flair_sentiment = flair.models.TextClassifier.load('en-sentiment')"
   ]
  },
  {
   "cell_type": "code",
   "execution_count": 6,
   "id": "bd7b5eec",
   "metadata": {},
   "outputs": [
    {
     "data": {
      "application/vnd.jupyter.widget-view+json": {
       "model_id": "0f40c5f0b17d484293f8fbbd1458cd20",
       "version_major": 2,
       "version_minor": 0
      },
      "text/plain": [
       "  0%|          | 0/197276 [00:00<?, ?it/s]"
      ]
     },
     "metadata": {},
     "output_type": "display_data"
    }
   ],
   "source": [
    "from tqdm.notebook import tqdm\n",
    "\n",
    "ss= list(tqdm((flair.data.Sentence(sent) for sent in df['Tweet']), total=len(df)))"
   ]
  },
  {
   "cell_type": "code",
   "execution_count": 7,
   "id": "d0b40aee",
   "metadata": {},
   "outputs": [
    {
     "name": "stderr",
     "output_type": "stream",
     "text": [
      "Batch inference: 100%|██████████| 6165/6165 [2:39:40<00:00,  1.55s/it]  \n"
     ]
    }
   ],
   "source": [
    "flair_sentiment.predict(ss, verbose=True, mini_batch_size=32)"
   ]
  },
  {
   "cell_type": "code",
   "execution_count": 9,
   "id": "0e3b0698",
   "metadata": {},
   "outputs": [],
   "source": [
    "\n",
    "results = [(x.labels[0].value, x.labels[0].score) for x in ss]"
   ]
  },
  {
   "cell_type": "code",
   "execution_count": 11,
   "id": "98332c47",
   "metadata": {},
   "outputs": [],
   "source": [
    "df['Sentiment'] = [x[0] for x in results]\n",
    "df['Sentiment Score'] = [x[1] for x in results]"
   ]
  },
  {
   "cell_type": "code",
   "execution_count": 13,
   "id": "f53d9942",
   "metadata": {},
   "outputs": [],
   "source": [
    "df.to_pickle('tweets_sentiment.pkl')"
   ]
  }
 ],
 "metadata": {
  "kernelspec": {
   "display_name": "Python 3 (ipykernel)",
   "language": "python",
   "name": "python3"
  },
  "language_info": {
   "codemirror_mode": {
    "name": "ipython",
    "version": 3
   },
   "file_extension": ".py",
   "mimetype": "text/x-python",
   "name": "python",
   "nbconvert_exporter": "python",
   "pygments_lexer": "ipython3",
   "version": "3.9.6"
  }
 },
 "nbformat": 4,
 "nbformat_minor": 5
}
