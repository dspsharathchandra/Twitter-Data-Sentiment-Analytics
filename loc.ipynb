{
 "cells": [
  {
   "cell_type": "code",
   "execution_count": 1,
   "metadata": {},
   "outputs": [],
   "source": [
    "import pandas as pd\n",
    "df = pd.read_pickle('tweets_sentiment.pkl')"
   ]
  },
  {
   "cell_type": "code",
   "execution_count": 2,
   "metadata": {},
   "outputs": [
    {
     "data": {
      "text/plain": [
       "Washington, DC               7448\n",
       "London                       5529\n",
       "New York, NY                 5112\n",
       "Ukraine                      4232\n",
       "United States                3692\n",
       "                             ... \n",
       "Frankfurt/Main                  1\n",
       "vihiga Kenya                    1\n",
       "lymm                            1\n",
       "Global🌎 🚫No lists               1\n",
       "Ontario via Massachusetts       1\n",
       "Name: Location, Length: 15907, dtype: int64"
      ]
     },
     "execution_count": 2,
     "metadata": {},
     "output_type": "execute_result"
    }
   ],
   "source": [
    "df['Location'].value_counts()"
   ]
  },
  {
   "cell_type": "code",
   "execution_count": 3,
   "metadata": {},
   "outputs": [],
   "source": [
    "from geopy.geocoders import Nominatim\n",
    "\n",
    "geoloc = Nominatim(user_agent='ADG_NLP_Project')"
   ]
  },
  {
   "cell_type": "code",
   "execution_count": 4,
   "metadata": {},
   "outputs": [],
   "source": [
    "from ratelimiter import RateLimiter\n",
    "\n",
    "rate_limiter = RateLimiter(max_calls=1, period=1)"
   ]
  },
  {
   "cell_type": "code",
   "execution_count": 5,
   "metadata": {},
   "outputs": [],
   "source": [
    "geo_cache = dict()"
   ]
  },
  {
   "cell_type": "code",
   "execution_count": 28,
   "metadata": {},
   "outputs": [
    {
     "name": "stderr",
     "output_type": "stream",
     "text": [
      "100%|██████████| 1476/1476 [29:30<00:00,  1.20s/it]\n"
     ]
    }
   ],
   "source": [
    "vc = df['Location'].value_counts()\n",
    "vc2 = vc[vc > 10]\n",
    "for loc, count in tqdm(vc2.iteritems(), total=len(vc2)):\n",
    "    if loc not in geo_cache:\n",
    "        with rate_limiter:\n",
    "            try:\n",
    "                geo_cache[loc] = geoloc.geocode(loc)\n",
    "            except:\n",
    "                pass"
   ]
  },
  {
   "cell_type": "code",
   "execution_count": 30,
   "metadata": {},
   "outputs": [
    {
     "name": "stderr",
     "output_type": "stream",
     "text": [
      "100%|██████████| 197276/197276 [00:13<00:00, 14992.68it/s]\n"
     ]
    }
   ],
   "source": [
    "from tqdm import tqdm\n",
    "\n",
    "data = []\n",
    "for i, row in tqdm(df.iterrows(), total=len(df)):\n",
    "    loc = row['Location']\n",
    "    if loc in geo_cache and geo_cache[loc] is not None:\n",
    "        df.loc[i, 'Latitude'] = geo_cache[loc].latitude\n",
    "        df.loc[i, 'Longitude'] = geo_cache[loc].longitude"
   ]
  },
  {
   "cell_type": "code",
   "execution_count": 11,
   "metadata": {},
   "outputs": [],
   "source": [
    "df.to_pickle('tweets_sentiment_location.pkl')"
   ]
  }
 ],
 "metadata": {
  "interpreter": {
   "hash": "767d51c1340bd893661ea55ea3124f6de3c7a262a8b4abca0554b478b1e2ff90"
  },
  "kernelspec": {
   "display_name": "Python 3.10.4 64-bit",
   "language": "python",
   "name": "python3"
  },
  "language_info": {
   "codemirror_mode": {
    "name": "ipython",
    "version": 3
   },
   "file_extension": ".py",
   "mimetype": "text/x-python",
   "name": "python",
   "nbconvert_exporter": "python",
   "pygments_lexer": "ipython3",
   "version": "3.10.4"
  },
  "orig_nbformat": 4
 },
 "nbformat": 4,
 "nbformat_minor": 2
}
